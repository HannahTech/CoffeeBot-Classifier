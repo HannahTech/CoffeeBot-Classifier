{
 "cells": [
  {
   "cell_type": "code",
   "execution_count": 2,
   "id": "ff205062",
   "metadata": {},
   "outputs": [],
   "source": [
    "import json, pickle, re, string\n",
    "import tensorflow as tf\n",
    "import numpy as np\n",
    "from keras.utils import pad_sequences\n",
    "from nltk.stem import WordNetLemmatizer"
   ]
  },
  {
   "cell_type": "code",
   "execution_count": 3,
   "id": "ef3d9660",
   "metadata": {},
   "outputs": [],
   "source": [
    "def load_file(file_name):\n",
    "    with open(file_name, 'rb') as f:\n",
    "        return pickle.load(f)"
   ]
  },
  {
   "cell_type": "code",
   "execution_count": 4,
   "id": "58bff515",
   "metadata": {},
   "outputs": [],
   "source": [
    "with open('hengameh_intents.json', 'r') as f:\n",
    "    intents = json.load(f)\n",
    "\n",
    "model = tf.keras.models.load_model('coffee_bot_model')\n",
    "\n",
    "tokenizer = load_file('tokenizer.pkl')\n",
    "encoder = load_file('encoder.pkl')"
   ]
  },
  {
   "cell_type": "code",
   "execution_count": 10,
   "id": "244414b9",
   "metadata": {},
   "outputs": [],
   "source": [
    "# lm = WordNetLemmatizer()\n",
    "# sentence = 'Do you offer pickup?'\n",
    "# sentence = [lm.lemmatize(re.sub(r\"[^a-z\\s]\", \"\", re.sub(r\"\\d+\", \"\", re.sub(r\"\\s+\", \" \", \\\n",
    "#                         word.lower()))).strip()) for word in sentence.split() if word not in string.punctuation]\n",
    "# print('1',sentence)\n",
    "# tokenized_text = tokenizer.texts_to_sequences([sentence])\n",
    "# print('2',tokenized_text)\n",
    "# padded_sequence = pad_sequences(tokenized_text, maxlen=35)\n",
    "# print('3',padded_sequence)\n",
    "# predicted_probabilities = model.predict(padded_sequence)\n",
    "# print('4',predicted_probabilities)\n",
    "# predicted_class_index = np.argmax(predicted_probabilities)\n",
    "# print('5',predicted_class_index)\n",
    "# predicted_tag = encoder.inverse_transform([predicted_class_index])[0]\n",
    "# print('6',predicted_tag)\n",
    "\n",
    "# for intent in intents['intents']:\n",
    "#     if intent['tag'] == predicted_tag:\n",
    "#         response = np.random.choice(intent['responses'])\n",
    "#         print(predicted_tag)\n",
    "#         print(response)"
   ]
  },
  {
   "cell_type": "code",
   "execution_count": 6,
   "id": "3c49ab50",
   "metadata": {},
   "outputs": [],
   "source": [
    "lm = WordNetLemmatizer()\n",
    "def generate_response(sentence):\n",
    "    sentence = [lm.lemmatize(re.sub(r\"[^a-z\\s]\", \"\", re.sub(r\"\\d+\", \"\", re.sub(r\"\\s+\", \" \", \\\n",
    "                            word.lower()))).strip()) for word in sentence.split() if word not in string.punctuation]\n",
    "    tokenized_text = tokenizer.texts_to_sequences([sentence])\n",
    "    padded_sequence = pad_sequences(tokenized_text, maxlen=35)\n",
    "    predicted_probabilities = model.predict(padded_sequence)\n",
    "    predicted_class_index = np.argmax(predicted_probabilities)\n",
    "    predicted_tag = encoder.inverse_transform([predicted_class_index])[0]\n",
    "\n",
    "    for intent in intents['intents']:\n",
    "        if intent['tag'] == predicted_tag:\n",
    "            response = np.random.choice(intent['responses'])\n",
    "            break\n",
    "    return response"
   ]
  },
  {
   "cell_type": "code",
   "execution_count": 7,
   "id": "d634fe4e",
   "metadata": {},
   "outputs": [
    {
     "name": "stdout",
     "output_type": "stream",
     "text": [
      "Hello, Welcome to our Coffee shop\n",
      "\n",
      "Customer: hi\n",
      "1/1 [==============================] - 0s 37ms/step\n",
      "Coffee_Bot: Hello\n",
      "Customer: Do you offer pickup?\n",
      "1/1 [==============================] - 0s 32ms/step\n",
      "Coffee_Bot: Yes, we offer pickup for all orders.\n",
      "Customer: exit\n",
      "\n",
      "Thanks for ordering, I hope see you soon :)\n"
     ]
    }
   ],
   "source": [
    "print('Hello, Welcome to our Coffee shop\\n')\n",
    "while True:\n",
    "    user_input = input(\"Customer: \")\n",
    "    if user_input.lower() == 'exit':\n",
    "        print('\\nThanks for ordering, I hope see you soon :)')\n",
    "        break\n",
    "    print(\"Coffee_Bot: \" + generate_response(user_input))"
   ]
  },
  {
   "cell_type": "code",
   "execution_count": null,
   "id": "cb20deea",
   "metadata": {},
   "outputs": [],
   "source": []
  }
 ],
 "metadata": {
  "kernelspec": {
   "display_name": "Python 3 (ipykernel)",
   "language": "python",
   "name": "python3"
  },
  "language_info": {
   "codemirror_mode": {
    "name": "ipython",
    "version": 3
   },
   "file_extension": ".py",
   "mimetype": "text/x-python",
   "name": "python",
   "nbconvert_exporter": "python",
   "pygments_lexer": "ipython3",
   "version": "3.9.16"
  }
 },
 "nbformat": 4,
 "nbformat_minor": 5
}
